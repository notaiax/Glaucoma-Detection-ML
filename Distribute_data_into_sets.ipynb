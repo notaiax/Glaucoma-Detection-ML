{
 "cells": [
  {
   "cell_type": "markdown",
   "metadata": {},
   "source": [
    "## <b><font size=\"+2\" color='red'>IMPORTANT:</font></b>  Execute the following cells if you are executing this notebook on <b><font size=\"+2\" color='red'>GOOGLE COLAB</font></b>"
   ]
  },
  {
   "cell_type": "code",
   "execution_count": null,
   "metadata": {},
   "outputs": [],
   "source": [
    "from google.colab import drive\n",
    "drive.mount('/content/drive')\n",
    "\n",
    "# Your dataset path in the google colab containing a folder all_data with the folders Glaucoma_Negative and Glaucoma_Positive\n",
    "dataset_path = '/content/drive/MyDrive/Colab Notebooks/datasets/Fundus_Train_Val_Data'"
   ]
  },
  {
   "cell_type": "markdown",
   "metadata": {},
   "source": [
    "## <b><font size=\"+2\" color='red'>IMPORTANT:</font></b>  Execute the following cells if you are executing this notebook on your computer <b><font size=\"+2\" color='red'> LOCAL</font></b>"
   ]
  },
  {
   "cell_type": "code",
   "execution_count": null,
   "metadata": {},
   "outputs": [],
   "source": [
    "# Your dataset path in your computer containing a folder all_data with the folders Glaucoma_Negative and Glaucoma_Positive\n",
    "dataset_path = r'C:\\Users\\aiax7\\Desktop\\stuff\\tfg\\datasets\\Fundus_Train_Val_Data'"
   ]
  },
  {
   "cell_type": "markdown",
   "metadata": {},
   "source": [
    "## <b><font size=\"+2\" color='red'>IMPORTANT:</font></b> Execute  <b><font size=\"+2\" color='red'> EVERYTHING </font></b> starting here"
   ]
  },
  {
   "cell_type": "markdown",
   "metadata": {
    "id": "NZTZKB1IC82d"
   },
   "source": [
    "## Imports"
   ]
  },
  {
   "cell_type": "code",
   "execution_count": null,
   "metadata": {
    "execution": {
     "iopub.execute_input": "2022-03-27T16:27:39.676424Z",
     "iopub.status.busy": "2022-03-27T16:27:39.676025Z",
     "iopub.status.idle": "2022-03-27T16:27:46.162096Z",
     "shell.execute_reply": "2022-03-27T16:27:46.161202Z",
     "shell.execute_reply.started": "2022-03-27T16:27:39.676328Z"
    },
    "executionInfo": {
     "elapsed": 3475,
     "status": "ok",
     "timestamp": 1650306578341,
     "user": {
      "displayName": "Àiax Faura Vilalta",
      "userId": "12815191779495608102"
     },
     "user_tz": -120
    },
    "id": "yOesKyPLC82e"
   },
   "outputs": [],
   "source": [
    "import glob\n",
    "import os\n",
    "import random\n",
    "import shutil"
   ]
  },
  {
   "cell_type": "markdown",
   "metadata": {
    "id": "gmJ3edmUDYqJ"
   },
   "source": [
    "## Organize data into train, validation, and test sets"
   ]
  },
  {
   "cell_type": "code",
   "execution_count": null,
   "metadata": {
    "executionInfo": {
     "elapsed": 20954,
     "status": "ok",
     "timestamp": 1650306657659,
     "user": {
      "displayName": "Àiax Faura Vilalta",
      "userId": "12815191779495608102"
     },
     "user_tz": -120
    },
    "id": "3rtRRa9aC82g"
   },
   "outputs": [],
   "source": [
    "# Set class names, this must match the ones in the folders\n",
    "class1 = 'Glaucoma_Negative'\n",
    "class2 = 'Glaucoma_Positive'\n",
    "# Set distribution values of all_data for each folder (train, valid, test). In this case is a 40%, 40%, 20% distribution\n",
    "class1_train_num_values = 193\n",
    "class2_train_num_values = 67\n",
    "class1_valid_num_values = 193\n",
    "class2_valid_num_values = 67\n",
    "class1_test_num_values = 96\n",
    "class2_test_num_values = 34\n",
    "\n",
    "# Organize data into train, valid, test dirs\n",
    "os.chdir(dataset_path)\n",
    "if os.path.isdir('train') is False and os.path.isdir('valid') is False and os.path.isdir('test') is False and os.path.isdir('moving_data') is False:\n",
    "    os.makedirs('train/' + class1)\n",
    "    os.makedirs('train/' + class2)\n",
    "    os.makedirs('valid/' + class1)\n",
    "    os.makedirs('valid/' + class2)\n",
    "    os.makedirs('test/' + class1)\n",
    "    os.makedirs('test/' + class2)\n",
    "else:\n",
    "    raise SystemExit(\"ERROR: Delete train, valid, test and moving_data folders before executing again\")\n",
    "\n",
    "\n",
    "# The following line is copying all data into another folder we'll use to move the files to the train, valdation and test sets.\n",
    "# I do it like this so I can try different percentages to distribute the data between these sets, keeping the original data\n",
    "shutil.copytree(\"./all_data\", \"./moving_data\")\n",
    "  \n",
    "for i in random.sample(glob.glob('./moving_data/' + class1 + '/*'), class1_train_num_values):\n",
    "    shutil.move(i, 'train/' + class1)   \n",
    "for i in random.sample(glob.glob('./moving_data/' + class2 + '/*'), class2_train_num_values):\n",
    "    shutil.move(i, 'train/' + class2)\n",
    "\n",
    "for i in random.sample(glob.glob('./moving_data/' + class1 + '/*'), class1_valid_num_values):\n",
    "    shutil.move(i, 'valid/' + class1)   \n",
    "for i in random.sample(glob.glob('./moving_data/' + class2 + '/*'), class2_valid_num_values):\n",
    "    shutil.move(i, 'valid/' + class2)  \n",
    "\n",
    "for i in random.sample(glob.glob('./moving_data/' + class1 + '/*'), class1_test_num_values):\n",
    "    shutil.move(i,'test/' + class1)   \n",
    "for i in random.sample(glob.glob('./moving_data/' + class2 + '/*'), class2_test_num_values):\n",
    "    shutil.move(i, 'test/' + class2)   "
   ]
  }
 ],
 "metadata": {
  "colab": {
   "name": "(PREprocess)_deep-lizard-tutorial-image_preprocessing.ipynb",
   "provenance": []
  },
  "kernelspec": {
   "display_name": "Python 3 (ipykernel)",
   "language": "python",
   "name": "python3"
  },
  "language_info": {
   "codemirror_mode": {
    "name": "ipython",
    "version": 3
   },
   "file_extension": ".py",
   "mimetype": "text/x-python",
   "name": "python",
   "nbconvert_exporter": "python",
   "pygments_lexer": "ipython3",
   "version": "3.10.5"
  }
 },
 "nbformat": 4,
 "nbformat_minor": 1
}
